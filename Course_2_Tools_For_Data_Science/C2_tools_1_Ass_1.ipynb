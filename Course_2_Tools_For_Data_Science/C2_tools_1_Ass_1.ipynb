{
 "cells": [
  {
   "cell_type": "markdown",
   "metadata": {},
   "source": [
    "### Excercise 1: Create Jupyter Notebook"
   ]
  },
  {
   "cell_type": "markdown",
   "metadata": {},
   "source": [
    "### Exercise 2\n",
    "## Tools For Data Science - Final Assignment "
   ]
  },
  {
   "cell_type": "markdown",
   "metadata": {},
   "source": [
    "### Exercise 3\n",
    "\n",
    "This workbook contains the code for the final assignment of course 2 in IBM Data Science Certification. The following are the assignment details. \n",
    "There are a total of 25 points possible for this final project.   \n",
    "\n",
    "Your grade will be based on the following Exercises:\n",
    "\n",
    "Exercise 2 - Create a markdown cell with the title of the notebook. (1 pt)\n",
    "\n",
    "Exercise 3 - Create a markdown cell for an introduction. (1 pt)\n",
    "\n",
    "Exercise 4 - Create a markdown cell to list data science languages. (3 pts)\n",
    "\n",
    "Exercise 5 - Create a markdown cell to list data science libraries. (3 pts)\n",
    "\n",
    "Exercise 6 - Create a markdown cell with a table of Data Science tools. (3 pts)\n",
    "\n",
    "Exercise 7 - Create a markdown cell introducing arithmetic expression examples. (1 pt)\n",
    "\n",
    "Exercise 8 - Create a code cell to multiply and add numbers. (2 pts)\n",
    "\n",
    "Exercise 9 - Create a code cell to convert minutes to hours. (2 pts)\n",
    "\n",
    "Exercise 10 -Insert a markdown cell to list Objectives. (3 pts)\n",
    "\n",
    "Exercise 11 - Create a markdown cell to indicate the Author’s name. (2 pts)\n",
    "\n",
    "Exercise 12 - Share your notebook through GitHub (3 pts)\n",
    "\n",
    "Exercise 13 - Take a screenshot of the first page of the notebook. (1 pt)"
   ]
  },
  {
   "cell_type": "markdown",
   "metadata": {},
   "source": [
    "### Exercise 4\n",
    "\n",
    "### Data Science Languages\n",
    "\n",
    "1. **Python:** Python is one of the most widely used programming languages for data science. It has a rich ecosystem of libraries such as NumPy, Pandas, Matplotlib, and Scikit-learn that facilitate various aspects of data manipulation, analysis, and visualization.\n",
    "\n",
    "2. **R:** R is another popular language for data analysis and statistical computing. It offers a wide range of packages and tools for data manipulation, visualization, and statistical modeling.\n",
    "\n",
    "3. **Julia:** Julia is known for its high-performance capabilities and is gaining traction in the data science community. It's designed to be both user-friendly and efficient for numerical and scientific computing tasks.\n",
    "\n",
    "4. **SQL:** Structured Query Language (SQL) is essential for working with relational databases. It's used to query, manage, and manipulate data stored in databases, making it a crucial skill for data professionals.\n",
    "\n",
    "5. **Scala:** Scala, often used with the Apache Spark framework, is useful for distributed data processing and large-scale analytics tasks. It combines functional and object-oriented programming paradigms.\n",
    "\n",
    "6. **SAS:** SAS (Statistical Analysis System) is a software suite used for advanced analytics, business intelligence, and data management. It's particularly prevalent in industries like healthcare and finance.\n",
    "\n",
    "7. **MATLAB:** While primarily used in engineering and scientific research, MATLAB is also utilized in data analysis, particularly in fields that involve signal processing and image analysis.\n",
    "\n",
    "8. **Haskell:** Haskell's functional programming features can be applied to data analysis tasks, particularly when dealing with complex data transformations and manipulations.\n",
    "\n",
    "9. **Perl:** Perl has a long history in text processing and data munging tasks. Although it's less commonly used today, it still finds applications in certain data analysis scenarios.\n",
    "\n",
    "10. **Java:** Java, with its strong ecosystem and performance capabilities, is used in big data processing frameworks like Apache Hadoop. It's often employed for data engineering tasks.\n"
   ]
  },
  {
   "cell_type": "markdown",
   "metadata": {},
   "source": [
    "### Exercise 5\n",
    "\n",
    "### Data Science Libraries\n",
    "\n",
    "### Data Manipulation and Analysis\n",
    "\n",
    "- **NumPy:** A fundamental library for numerical computations in Python, providing support for arrays, matrices, and mathematical functions.\n",
    "\n",
    "- **Pandas:** Offers versatile data structures (DataFrames and Series) to efficiently handle and manipulate structured data.\n",
    "\n",
    "- **SciPy:** Built on top of NumPy, SciPy provides additional functionality for optimization, integration, interpolation, and more.\n",
    "\n",
    "### Data Visualization\n",
    "\n",
    "- **Matplotlib:** A widely-used library for creating static, interactive, and animated visualizations in Python.\n",
    "\n",
    "- **Seaborn:** Built on top of Matplotlib, Seaborn offers a higher-level interface for creating informative and attractive statistical graphics.\n",
    "\n",
    "- **Plotly:** Enables the creation of interactive and web-based visualizations, including 2D and 3D plots.\n",
    "\n",
    "### Machine Learning and Modeling\n",
    "\n",
    "- **Scikit-learn:** A comprehensive library for machine learning algorithms, including classification, regression, clustering, and more.\n",
    "\n",
    "- **TensorFlow:** Developed by Google, TensorFlow is an open-source framework for deep learning tasks, providing tools for building neural networks.\n",
    "\n",
    "- **PyTorch:** Developed by Facebook, PyTorch is another deep learning framework that emphasizes dynamic computation graphs and ease of use.\n",
    "\n",
    "### Natural Language Processing (NLP)\n",
    "\n",
    "- **NLTK (Natural Language Toolkit):** A library for working with human language data, providing tools for text processing and analysis.\n",
    "\n",
    "- **spaCy:** Focuses on efficient NLP pipelines and supports various languages for tasks like part-of-speech tagging, named entity recognition, etc.\n",
    "\n",
    "### Data Mining and Exploration\n",
    "\n",
    "- **Scrapy:** A framework for extracting data from websites, making it useful for web scraping and data collection.\n",
    "\n",
    "- **Beautiful Soup:** A library for parsing HTML and XML documents, often used in conjunction with Scrapy.\n",
    "\n",
    "### Time Series Analysis\n",
    "\n",
    "- **Statsmodels:** Provides classes and functions for estimating and interpreting various statistical models, particularly for time series analysis.\n",
    "\n",
    "- **Prophet:** Developed by Facebook, Prophet is designed for forecasting time series data with an emphasis on ease of use."
   ]
  },
  {
   "cell_type": "markdown",
   "metadata": {},
   "source": [
    "### Exercise 6 \n",
    "\n",
    "## Data Science Tools\n",
    "\n",
    "| Tool                | Description                                                                                   |\n",
    "|---------------------|-----------------------------------------------------------------------------------------------|\n",
    "| Jupyter Notebook    | An interactive environment that allows you to create and share documents containing live code, equations, visualizations, and narrative text. |\n",
    "| RStudio             | An integrated development environment (IDE) for R programming, tailored for data analysis and visualization. |\n",
    "| Anaconda            | A platform that provides package management and environment management for Python and R data science stacks. |\n",
    "| Tableau             | A powerful data visualization tool that allows you to create interactive and shareable dashboards and reports. |\n",
    "| Power BI            | A business analytics service by Microsoft for interactive visualizations and business intelligence. |\n",
    "| Apache Spark        | A fast and general-purpose cluster computing system that's often used for big data processing and analytics. |\n",
    "| KNIME               | A platform for visual programming that allows you to create data workflows using a wide range of data science components. |\n",
    "| RapidMiner          | An open-source platform for data science that provides tools for data preprocessing, machine learning, and more. |\n",
    "| IBM Watson Studio   | A comprehensive platform by IBM that offers tools for data science, machine learning, and AI model development. |\n",
    "| Orange              | An open-source data visualization and analysis tool, particularly suitable for novice data scientists. |\n",
    "| D3.js               | A JavaScript library for creating custom data visualizations in web browsers, utilizing HTML, SVG, and CSS. |\n",
    "| Git and GitHub      | Version control system (Git) and web-based platform (GitHub) for collaborative coding and project management. |\n",
    "| Docker              | A platform for developing, shipping, and running applications in containers, facilitating consistent deployment. |\n",
    "| Apache Hadoop       | An open-source framework for distributed storage and processing of large datasets across clusters of computers. |"
   ]
  },
  {
   "cell_type": "markdown",
   "metadata": {},
   "source": [
    "### Exercise 7 \n",
    "\n",
    "### Arithmetic Expression Examples\n",
    "\n",
    "Arithmetic expressions involve mathematical operations such as addition, subtraction, multiplication, and division. These expressions are used to perform calculations in various fields of mathematics and science. Here are some examples of arithmetic expressions:\n",
    "\n",
    "1. **Addition**: Adding two or more numbers together.\n",
    "   ```plaintext\n",
    "   1. 5 + 3 = 8\n",
    "   2. 12.5 + 7.3 = 19.8"
   ]
  },
  {
   "cell_type": "markdown",
   "metadata": {},
   "source": [
    "### Exercise 8"
   ]
  },
  {
   "cell_type": "code",
   "execution_count": 1,
   "metadata": {},
   "outputs": [
    {
     "name": "stdout",
     "output_type": "stream",
     "text": [
      "The product of 5 and 3 is 15\n",
      "The sum of 10 and 7 is 17\n"
     ]
    }
   ],
   "source": [
    "# Multiplication\n",
    "num1 = 5\n",
    "num2 = 3\n",
    "product = num1 * num2\n",
    "print(f\"The product of {num1} and {num2} is {product}\")\n",
    "\n",
    "# Addition\n",
    "num3 = 10\n",
    "num4 = 7\n",
    "sum_result = num3 + num4\n",
    "print(f\"The sum of {num3} and {num4} is {sum_result}\")"
   ]
  },
  {
   "cell_type": "markdown",
   "metadata": {},
   "source": [
    "### Exercise 9"
   ]
  },
  {
   "cell_type": "code",
   "execution_count": 3,
   "metadata": {},
   "outputs": [
    {
     "name": "stdout",
     "output_type": "stream",
     "text": [
      "150 minutes is equal to 2.5 hours\n"
     ]
    }
   ],
   "source": [
    "def minutes_to_hours(minutes):\n",
    "    hours = minutes / 60\n",
    "    return hours\n",
    "\n",
    "# Test the function\n",
    "minutes = 150\n",
    "converted_hours = minutes_to_hours(minutes)\n",
    "print(f\"{minutes} minutes is equal to {converted_hours} hours\")"
   ]
  },
  {
   "cell_type": "markdown",
   "metadata": {},
   "source": [
    "### Exercise 10\n",
    "\n",
    "### Objectives\n",
    "\n",
    "1. **Demonstrate Notebook Title and Introduction**:\n",
    "   - Exercise 2: Create a markdown cell with the title of the notebook.\n",
    "   - Exercise 3: Create a markdown cell for an introduction.\n",
    "\n",
    "2. **Explore Data Science Fundamentals**:\n",
    "   - Exercise 4: Create a markdown cell to list data science languages.\n",
    "   - Exercise 5: Create a markdown cell to list data science libraries.\n",
    "\n",
    "3. **Showcase Data Science Tools and Operations**:\n",
    "   - Exercise 6: Create a markdown cell with a table of Data Science tools.\n",
    "   - Exercise 7: Create a markdown cell introducing arithmetic expression examples.\n",
    "\n",
    "4. **Practice Basic Arithmetic and Conversion**:\n",
    "   - Exercise 8: Create a code cell to multiply and add numbers.\n",
    "   - Exercise 9: Create a code cell to convert minutes to hours.\n"
   ]
  },
  {
   "cell_type": "markdown",
   "metadata": {},
   "source": [
    "### Exercise 11\n",
    "\n",
    "### Author: Kashif Liaqat "
   ]
  }
 ],
 "metadata": {
  "kernelspec": {
   "display_name": "base",
   "language": "python",
   "name": "python3"
  },
  "language_info": {
   "codemirror_mode": {
    "name": "ipython",
    "version": 3
   },
   "file_extension": ".py",
   "mimetype": "text/x-python",
   "name": "python",
   "nbconvert_exporter": "python",
   "pygments_lexer": "ipython3",
   "version": "3.8.5"
  },
  "orig_nbformat": 4
 },
 "nbformat": 4,
 "nbformat_minor": 2
}
